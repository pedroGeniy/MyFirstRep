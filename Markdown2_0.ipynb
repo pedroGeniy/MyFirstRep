{
  "nbformat": 4,
  "nbformat_minor": 0,
  "metadata": {
    "colab": {
      "provenance": [],
      "include_colab_link": true
    },
    "kernelspec": {
      "name": "python3",
      "display_name": "Python 3"
    },
    "language_info": {
      "name": "python"
    }
  },
  "cells": [
    {
      "cell_type": "markdown",
      "metadata": {
        "id": "view-in-github",
        "colab_type": "text"
      },
      "source": [
        "<a href=\"https://colab.research.google.com/github/pedroGeniy/MyFirstRep/blob/main/Markdown2_0.ipynb\" target=\"_parent\"><img src=\"https://colab.research.google.com/assets/colab-badge.svg\" alt=\"Open In Colab\"/></a>"
      ]
    },
    {
      "cell_type": "markdown",
      "source": [],
      "metadata": {
        "id": "VCHm58N3vREz"
      }
    },
    {
      "cell_type": "code",
      "source": [],
      "metadata": {
        "id": "oPsZcwyVvlM1"
      },
      "execution_count": null,
      "outputs": []
    },
    {
      "cell_type": "markdown",
      "source": [
        "\n",
        "\n",
        "```\n",
        "# Выбран кодовый формат\n",
        "```\n",
        "\n",
        "Дешёвый подарок на др\n",
        "1.   porsche 911 turbo s\n",
        "2.   porsche carrera gt\n",
        "3.   porsche 918\n",
        "\n",
        "\n",
        "---\n",
        "\n",
        "\n",
        "\n",
        "\n",
        "\n",
        "\n",
        "![car](https://files.porsche.com/filestore/image/multimedia/none/911-tus-modelimage-sideshot/model/930894f1-6214-11ea-80c8-005056bbdc38/porsche-model.png)\n",
        "\n",
        "\n",
        "---\n",
        "\n",
        "\n",
        "\n",
        "\n",
        "[ссылка в сибирь](https://www.porsche.com/international/models/911/)\n",
        "\n",
        "\n",
        "---\n",
        "\n",
        "цвет |количество| размер\n",
        ":----|:---------|--------:\n",
        "красный|1|25\n",
        "синий|2|345\n",
        "зеленый|4|39\n",
        "\n"
      ],
      "metadata": {
        "id": "8UsY5e0WwJks"
      }
    }
  ]
}